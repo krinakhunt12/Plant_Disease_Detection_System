{
 "cells": [
  {
   "cell_type": "code",
   "execution_count": 1,
   "id": "ad8b7efa",
   "metadata": {},
   "outputs": [],
   "source": [
    "import tensorflow as tf\n",
    "import matplotlib.pyplot as plt\n",
    "import pandas as pd\n",
    "import seaborn as sns"
   ]
  },
  {
   "cell_type": "code",
   "execution_count": 2,
   "id": "fa702a49",
   "metadata": {},
   "outputs": [
    {
     "name": "stdout",
     "output_type": "stream",
     "text": [
      "Found 70295 files belonging to 38 classes.\n"
     ]
    }
   ],
   "source": [
    "training_set = tf.keras.utils.image_dataset_from_directory(\n",
    "    'Dataset/train',\n",
    "    labels=\"inferred\",\n",
    "    label_mode=\"categorical\",\n",
    "    class_names=None,\n",
    "    color_mode=\"rgb\",\n",
    "    batch_size=32,\n",
    "    image_size=(128, 128),\n",
    "    shuffle=True,\n",
    "    seed=None,\n",
    "    validation_split=None,\n",
    "    subset=None,\n",
    "    interpolation=\"bilinear\",\n",
    "    follow_links=False,\n",
    "    crop_to_aspect_ratio=False\n",
    ")"
   ]
  },
  {
   "cell_type": "code",
   "execution_count": 3,
   "id": "46521d5a",
   "metadata": {},
   "outputs": [
    {
     "name": "stdout",
     "output_type": "stream",
     "text": [
      "Found 17572 files belonging to 38 classes.\n"
     ]
    }
   ],
   "source": [
    "validation_set = tf.keras.utils.image_dataset_from_directory(\n",
    "    'Dataset/valid',\n",
    "    labels=\"inferred\",\n",
    "    label_mode=\"categorical\",\n",
    "    class_names=None,\n",
    "    color_mode=\"rgb\",\n",
    "    batch_size=32,\n",
    "    image_size=(128, 128),\n",
    "    shuffle=True,\n",
    "    seed=None,\n",
    "    validation_split=None,\n",
    "    subset=None,\n",
    "    interpolation=\"bilinear\",\n",
    "    follow_links=False,\n",
    "    crop_to_aspect_ratio=False\n",
    ")"
   ]
  },
  {
   "cell_type": "code",
   "execution_count": 4,
   "id": "0d2d693c",
   "metadata": {},
   "outputs": [],
   "source": [
    "cnn = tf.keras.models.Sequential()"
   ]
  },
  {
   "cell_type": "code",
   "execution_count": 5,
   "id": "6ed08faf-1136-412e-8e48-108e0aafafef",
   "metadata": {},
   "outputs": [
    {
     "data": {
      "text/plain": [
       "<_PrefetchDataset element_spec=(TensorSpec(shape=(None, 128, 128, 3), dtype=tf.float32, name=None), TensorSpec(shape=(None, 38), dtype=tf.float32, name=None))>"
      ]
     },
     "execution_count": 5,
     "metadata": {},
     "output_type": "execute_result"
    }
   ],
   "source": [
    "training_set"
   ]
  },
  {
   "cell_type": "code",
   "execution_count": 6,
   "id": "e04681ff-8c08-43a8-a2fd-0ee0edb0b06e",
   "metadata": {},
   "outputs": [
    {
     "name": "stdout",
     "output_type": "stream",
     "text": [
      "tf.Tensor(\n",
      "[[[[159.5  153.5  155.5 ]\n",
      "   [159.5  153.5  155.5 ]\n",
      "   [150.   144.   146.  ]\n",
      "   ...\n",
      "   [177.25 170.25 177.25]\n",
      "   [177.   170.   177.  ]\n",
      "   [172.75 165.75 172.75]]\n",
      "\n",
      "  [[152.75 146.75 148.75]\n",
      "   [147.75 141.75 143.75]\n",
      "   [151.5  145.5  147.5 ]\n",
      "   ...\n",
      "   [175.   168.   175.  ]\n",
      "   [173.75 166.75 173.75]\n",
      "   [173.5  166.5  173.5 ]]\n",
      "\n",
      "  [[156.75 150.75 152.75]\n",
      "   [155.25 149.25 151.25]\n",
      "   [157.75 151.75 153.75]\n",
      "   ...\n",
      "   [177.25 170.25 177.25]\n",
      "   [176.5  169.5  176.5 ]\n",
      "   [179.   172.   179.  ]]\n",
      "\n",
      "  ...\n",
      "\n",
      "  [[145.   140.   147.  ]\n",
      "   [138.75 133.75 140.75]\n",
      "   [137.25 132.25 139.25]\n",
      "   ...\n",
      "   [164.75 161.75 168.75]\n",
      "   [161.   158.   165.  ]\n",
      "   [164.   161.   168.  ]]\n",
      "\n",
      "  [[144.25 139.25 146.25]\n",
      "   [145.25 140.25 147.25]\n",
      "   [141.   136.   143.  ]\n",
      "   ...\n",
      "   [168.5  165.5  172.5 ]\n",
      "   [164.5  161.5  168.5 ]\n",
      "   [165.75 162.75 169.75]]\n",
      "\n",
      "  [[150.5  145.5  152.5 ]\n",
      "   [146.   141.   148.  ]\n",
      "   [149.5  144.5  151.5 ]\n",
      "   ...\n",
      "   [169.   166.   173.  ]\n",
      "   [167.   164.   171.  ]\n",
      "   [164.5  161.5  168.5 ]]]\n",
      "\n",
      "\n",
      " [[[140.25 135.25 142.25]\n",
      "   [149.   144.   151.  ]\n",
      "   [137.75 132.75 139.75]\n",
      "   ...\n",
      "   [134.75 127.75 135.75]\n",
      "   [137.75 130.75 138.75]\n",
      "   [129.75 122.75 130.75]]\n",
      "\n",
      "  [[126.25 121.25 128.25]\n",
      "   [147.5  142.5  149.5 ]\n",
      "   [144.25 139.25 146.25]\n",
      "   ...\n",
      "   [144.25 137.25 145.25]\n",
      "   [134.5  127.5  135.5 ]\n",
      "   [128.   121.   129.  ]]\n",
      "\n",
      "  [[153.25 148.25 155.25]\n",
      "   [137.75 132.75 139.75]\n",
      "   [146.75 141.75 148.75]\n",
      "   ...\n",
      "   [140.   133.   141.  ]\n",
      "   [138.25 131.25 139.25]\n",
      "   [133.75 126.75 134.75]]\n",
      "\n",
      "  ...\n",
      "\n",
      "  [[176.5  170.5  180.5 ]\n",
      "   [164.75 158.75 168.75]\n",
      "   [170.75 164.75 174.75]\n",
      "   ...\n",
      "   [156.25 150.25 160.25]\n",
      "   [165.   159.   169.  ]\n",
      "   [164.25 158.25 168.25]]\n",
      "\n",
      "  [[174.5  168.5  178.5 ]\n",
      "   [161.25 155.25 165.25]\n",
      "   [171.25 165.25 175.25]\n",
      "   ...\n",
      "   [154.25 148.25 158.25]\n",
      "   [155.25 149.25 159.25]\n",
      "   [158.5  152.5  162.5 ]]\n",
      "\n",
      "  [[168.25 162.25 172.25]\n",
      "   [167.75 161.75 171.75]\n",
      "   [164.   158.   168.  ]\n",
      "   ...\n",
      "   [157.75 151.75 161.75]\n",
      "   [158.   152.   162.  ]\n",
      "   [159.25 153.25 163.25]]]\n",
      "\n",
      "\n",
      " [[[160.   133.   138.  ]\n",
      "   [157.25 130.25 135.25]\n",
      "   [156.5  129.5  134.5 ]\n",
      "   ...\n",
      "   [159.25 130.25 135.25]\n",
      "   [164.   135.   140.  ]\n",
      "   [164.5  135.5  140.5 ]]\n",
      "\n",
      "  [[159.75 132.75 137.75]\n",
      "   [158.25 131.25 136.25]\n",
      "   [157.25 130.25 135.25]\n",
      "   ...\n",
      "   [157.25 128.25 133.25]\n",
      "   [161.5  132.5  137.5 ]\n",
      "   [161.25 132.25 137.25]]\n",
      "\n",
      "  [[157.75 130.75 135.75]\n",
      "   [158.   131.   136.  ]\n",
      "   [157.25 130.25 135.25]\n",
      "   ...\n",
      "   [158.   129.   134.  ]\n",
      "   [161.5  132.5  137.5 ]\n",
      "   [160.5  131.5  136.5 ]]\n",
      "\n",
      "  ...\n",
      "\n",
      "  [[135.   110.   114.  ]\n",
      "   [135.75 110.75 114.75]\n",
      "   [135.75 110.75 114.75]\n",
      "   ...\n",
      "   [126.5   95.5  100.5 ]\n",
      "   [124.25  93.25  98.25]\n",
      "   [127.    96.   101.  ]]\n",
      "\n",
      "  [[139.25 114.25 118.25]\n",
      "   [136.   111.   115.  ]\n",
      "   [136.   111.   115.  ]\n",
      "   ...\n",
      "   [132.5  101.5  106.5 ]\n",
      "   [133.5  102.5  107.5 ]\n",
      "   [129.5   98.5  103.5 ]]\n",
      "\n",
      "  [[138.25 113.25 117.25]\n",
      "   [140.25 115.25 119.25]\n",
      "   [140.25 115.25 119.25]\n",
      "   ...\n",
      "   [136.75 105.75 110.75]\n",
      "   [135.   104.   109.  ]\n",
      "   [131.   100.   105.  ]]]\n",
      "\n",
      "\n",
      " ...\n",
      "\n",
      "\n",
      " [[[152.75 123.75 128.75]\n",
      "   [157.5  128.5  133.5 ]\n",
      "   [158.   129.   134.  ]\n",
      "   ...\n",
      "   [136.25 105.25 110.25]\n",
      "   [133.75 102.75 107.75]\n",
      "   [136.75 105.75 110.75]]\n",
      "\n",
      "  [[156.   127.   132.  ]\n",
      "   [154.5  125.5  130.5 ]\n",
      "   [153.   124.   129.  ]\n",
      "   ...\n",
      "   [132.25 101.25 106.25]\n",
      "   [134.25 103.25 108.25]\n",
      "   [128.5   97.5  102.5 ]]\n",
      "\n",
      "  [[154.5  125.5  130.5 ]\n",
      "   [151.75 122.75 127.75]\n",
      "   [154.   125.   130.  ]\n",
      "   ...\n",
      "   [135.75 104.75 109.75]\n",
      "   [127.5   96.5  101.5 ]\n",
      "   [129.5   98.5  103.5 ]]\n",
      "\n",
      "  ...\n",
      "\n",
      "  [[141.   114.   123.  ]\n",
      "   [140.5  113.5  122.5 ]\n",
      "   [140.75 113.75 122.75]\n",
      "   ...\n",
      "   [121.5   98.5  106.5 ]\n",
      "   [116.5   93.5  101.5 ]\n",
      "   [117.25  94.25 102.25]]\n",
      "\n",
      "  [[136.   109.   118.  ]\n",
      "   [138.   111.   120.  ]\n",
      "   [141.25 114.25 123.25]\n",
      "   ...\n",
      "   [120.25  97.25 105.25]\n",
      "   [124.75 101.75 109.75]\n",
      "   [115.    92.   100.  ]]\n",
      "\n",
      "  [[144.   117.   126.  ]\n",
      "   [146.25 119.25 128.25]\n",
      "   [145.   118.   127.  ]\n",
      "   ...\n",
      "   [120.25  97.25 105.25]\n",
      "   [122.5   99.5  107.5 ]\n",
      "   [116.25  93.25 101.25]]]\n",
      "\n",
      "\n",
      " [[[  0.     0.     0.  ]\n",
      "   [  0.     0.     0.  ]\n",
      "   [  0.     0.     0.  ]\n",
      "   ...\n",
      "   [  0.     0.     0.  ]\n",
      "   [  0.     0.     0.  ]\n",
      "   [  0.     0.     0.  ]]\n",
      "\n",
      "  [[  0.     0.     0.  ]\n",
      "   [  0.     0.     0.  ]\n",
      "   [  0.     0.     0.  ]\n",
      "   ...\n",
      "   [  0.     0.     0.  ]\n",
      "   [  0.     0.     0.  ]\n",
      "   [  0.     0.     0.  ]]\n",
      "\n",
      "  [[  0.     0.     0.  ]\n",
      "   [  0.     0.     0.  ]\n",
      "   [  0.     0.     0.  ]\n",
      "   ...\n",
      "   [  0.     0.     0.  ]\n",
      "   [  0.     0.     0.  ]\n",
      "   [  0.     0.     0.  ]]\n",
      "\n",
      "  ...\n",
      "\n",
      "  [[  0.     0.     0.  ]\n",
      "   [  0.     0.     0.  ]\n",
      "   [  0.     0.     0.  ]\n",
      "   ...\n",
      "   [  0.     0.     0.  ]\n",
      "   [  0.     0.     0.  ]\n",
      "   [  0.     0.     0.  ]]\n",
      "\n",
      "  [[  0.     0.     0.  ]\n",
      "   [  0.     0.     0.  ]\n",
      "   [  0.     0.     0.  ]\n",
      "   ...\n",
      "   [  0.     0.     0.  ]\n",
      "   [  0.     0.     0.  ]\n",
      "   [  0.     0.     0.  ]]\n",
      "\n",
      "  [[  0.     0.     0.  ]\n",
      "   [  0.     0.     0.  ]\n",
      "   [  0.     0.     0.  ]\n",
      "   ...\n",
      "   [  0.     0.     0.  ]\n",
      "   [  0.     0.     0.  ]\n",
      "   [  0.     0.     0.  ]]]\n",
      "\n",
      "\n",
      " [[[  0.     0.     0.  ]\n",
      "   [  0.     0.     0.  ]\n",
      "   [  0.     0.     0.  ]\n",
      "   ...\n",
      "   [  0.     0.     0.  ]\n",
      "   [  0.     0.     0.  ]\n",
      "   [  0.     0.     0.  ]]\n",
      "\n",
      "  [[  0.     0.     0.  ]\n",
      "   [  0.     0.     0.  ]\n",
      "   [  0.     0.     0.  ]\n",
      "   ...\n",
      "   [  0.     0.     0.  ]\n",
      "   [  0.     0.     0.  ]\n",
      "   [  0.     0.     0.  ]]\n",
      "\n",
      "  [[  0.     0.     0.  ]\n",
      "   [  0.     0.     0.  ]\n",
      "   [  0.     0.     0.  ]\n",
      "   ...\n",
      "   [  0.     0.     0.  ]\n",
      "   [  0.     0.     0.  ]\n",
      "   [  0.     0.     0.  ]]\n",
      "\n",
      "  ...\n",
      "\n",
      "  [[  0.     0.     0.  ]\n",
      "   [  0.     0.     0.  ]\n",
      "   [  0.     0.     0.  ]\n",
      "   ...\n",
      "   [  0.     0.     0.  ]\n",
      "   [  0.     0.     0.  ]\n",
      "   [  0.     0.     0.  ]]\n",
      "\n",
      "  [[  0.     0.     0.  ]\n",
      "   [  0.     0.     0.  ]\n",
      "   [  0.     0.     0.  ]\n",
      "   ...\n",
      "   [  0.     0.     0.  ]\n",
      "   [  0.     0.     0.  ]\n",
      "   [  0.     0.     0.  ]]\n",
      "\n",
      "  [[  0.     0.     0.  ]\n",
      "   [  0.     0.     0.  ]\n",
      "   [  0.     0.     0.  ]\n",
      "   ...\n",
      "   [  0.     0.     0.  ]\n",
      "   [  0.     0.     0.  ]\n",
      "   [  0.     0.     0.  ]]]], shape=(32, 128, 128, 3), dtype=float32) (32, 128, 128, 3)\n",
      "tf.Tensor(\n",
      "[[0. 0. 0. ... 0. 0. 0.]\n",
      " [0. 0. 0. ... 0. 0. 0.]\n",
      " [0. 0. 0. ... 0. 0. 0.]\n",
      " ...\n",
      " [0. 0. 0. ... 0. 0. 0.]\n",
      " [0. 0. 0. ... 0. 0. 0.]\n",
      " [0. 0. 0. ... 0. 0. 0.]], shape=(32, 38), dtype=float32) (32, 38)\n"
     ]
    }
   ],
   "source": [
    "for x,y in training_set:\n",
    "    print(x, x.shape)\n",
    "    print(y, y.shape)\n",
    "    break"
   ]
  },
  {
   "cell_type": "code",
   "execution_count": null,
   "id": "1d51d515",
   "metadata": {},
   "outputs": [],
   "source": [
    "cnn.add(tf.keras.layers.Conv2D(filters=32,kernel_size=3,padding='same',activation='relu',input_shape=[128,128,3]))\n",
    "cnn.add(tf.keras.layers.Conv2D(filters=32,kernel_size=3,activation='relu'))\n",
    "cnn.add(tf.keras.layers.MaxPool2D(pool_size=2,strides=2))"
   ]
  },
  {
   "cell_type": "code",
   "execution_count": null,
   "id": "283e0c7e",
   "metadata": {},
   "outputs": [],
   "source": [
    "cnn.add(tf.keras.layers.Conv2D(filters=64,kernel_size=3,padding='same',activation='relu'))\n",
    "cnn.add(tf.keras.layers.Conv2D(filters=64,kernel_size=3,activation='relu'))\n",
    "cnn.add(tf.keras.layers.MaxPool2D(pool_size=2,strides=2))"
   ]
  },
  {
   "cell_type": "code",
   "execution_count": null,
   "id": "bb7c1239",
   "metadata": {},
   "outputs": [],
   "source": [
    "cnn.add(tf.keras.layers.Conv2D(filters=128,kernel_size=3,padding='same',activation='relu',input_shape=[128,128,3]))\n",
    "cnn.add(tf.keras.layers.Conv2D(filters=128,kernel_size=3,activation='relu'))\n",
    "cnn.add(tf.keras.layers.MaxPool2D(pool_size=2,strides=2))"
   ]
  },
  {
   "cell_type": "code",
   "execution_count": null,
   "id": "5e4f03a4",
   "metadata": {},
   "outputs": [],
   "source": [
    "cnn.add(tf.keras.layers.Conv2D(filters=256,kernel_size=3,padding='same',activation='relu'))\n",
    "cnn.add(tf.keras.layers.Conv2D(filters=256,kernel_size=3,activation='relu'))\n",
    "cnn.add(tf.keras.layers.MaxPool2D(pool_size=2,strides=2))"
   ]
  },
  {
   "cell_type": "code",
   "execution_count": null,
   "id": "1abd4720",
   "metadata": {},
   "outputs": [],
   "source": [
    "cnn.add(tf.keras.layers.Conv2D(filters=512,kernel_size=3,padding='same',activation='relu'))\n",
    "cnn.add(tf.keras.layers.Conv2D(filters=512,kernel_size=3,activation='relu'))\n",
    "cnn.add(tf.keras.layers.MaxPool2D(pool_size=2,strides=2))"
   ]
  },
  {
   "cell_type": "code",
   "execution_count": null,
   "id": "52621b5f",
   "metadata": {},
   "outputs": [],
   "source": [
    "cnn.add(tf.keras.layers.Dropout(0.25))"
   ]
  },
  {
   "cell_type": "code",
   "execution_count": null,
   "id": "e5a9eab7",
   "metadata": {},
   "outputs": [],
   "source": [
    "cnn.add(tf.keras.layers.Flatten())"
   ]
  },
  {
   "cell_type": "code",
   "execution_count": null,
   "id": "d40f3513",
   "metadata": {},
   "outputs": [],
   "source": [
    "cnn.add(tf.keras.layers.Dense(units=1500,activation='relu'))"
   ]
  },
  {
   "cell_type": "code",
   "execution_count": null,
   "id": "73a897b7",
   "metadata": {},
   "outputs": [],
   "source": [
    "cnn.add(tf.keras.layers.Dropout(0.4)) #To avoid overfitting"
   ]
  },
  {
   "cell_type": "code",
   "execution_count": null,
   "id": "8d7b35a3",
   "metadata": {},
   "outputs": [],
   "source": [
    "cnn.add(tf.keras.layers.Dense(units=38,activation='softmax'))"
   ]
  },
  {
   "cell_type": "code",
   "execution_count": null,
   "id": "d8f83dc0",
   "metadata": {},
   "outputs": [],
   "source": [
    "cnn.compile(optimizer=tf.keras.optimizers.Adam(\n",
    "    learning_rate=0.0001),loss='categorical_crossentropy',metrics=['accuracy'])"
   ]
  },
  {
   "cell_type": "code",
   "execution_count": null,
   "id": "2667f598",
   "metadata": {},
   "outputs": [],
   "source": [
    "cnn.summary()"
   ]
  },
  {
   "cell_type": "code",
   "execution_count": null,
   "id": "65ffd9dd",
   "metadata": {},
   "outputs": [],
   "source": [
    "training_history = cnn.fit(x=training_set,validation_data=validation_set,epochs=2)"
   ]
  },
  {
   "cell_type": "code",
   "execution_count": null,
   "id": "8a0578ea",
   "metadata": {},
   "outputs": [],
   "source": [
    "#Training set Accuracy\n",
    "train_loss, train_acc = cnn.evaluate(training_set)\n",
    "print('Training accuracy:', train_acc)"
   ]
  },
  {
   "cell_type": "code",
   "execution_count": null,
   "id": "3e7d97f6",
   "metadata": {},
   "outputs": [],
   "source": [
    "#Validation set Accuracy\n",
    "val_loss, val_acc = cnn.evaluate(validation_set)\n",
    "print('Validation accuracy:', val_acc)"
   ]
  },
  {
   "cell_type": "code",
   "execution_count": null,
   "id": "fb24cae3",
   "metadata": {},
   "outputs": [],
   "source": [
    "cnn.save('trained_plant_disease_model.keras')"
   ]
  },
  {
   "cell_type": "code",
   "execution_count": null,
   "id": "bfac7fb7",
   "metadata": {},
   "outputs": [],
   "source": [
    "training_history.history #Return Dictionary of history"
   ]
  },
  {
   "cell_type": "code",
   "execution_count": null,
   "id": "dc140b80",
   "metadata": {},
   "outputs": [],
   "source": [
    "#Recording History in json\n",
    "import json\n",
    "with open('training_hist.json','w') as f:\n",
    "  json.dump(training_history.history,f)"
   ]
  },
  {
   "cell_type": "code",
   "execution_count": null,
   "id": "d6aa4408",
   "metadata": {},
   "outputs": [],
   "source": [
    "print(training_history.history.keys())"
   ]
  },
  {
   "cell_type": "code",
   "execution_count": null,
   "id": "427b265e",
   "metadata": {},
   "outputs": [],
   "source": [
    "epochs = [i for i in range(1,11)]\n",
    "plt.plot(epochs,training_history.history['accuracy'],color='brown',label='Training Accuracy')\n",
    "plt.plot(epochs,training_history.history['val_accuracy'],color='green',label='Validation Accuracy')\n",
    "plt.xlabel('No. of Epochs')\n",
    "plt.title('Visualization of Accuracy Result')\n",
    "plt.legend()\n",
    "plt.show()"
   ]
  },
  {
   "cell_type": "code",
   "execution_count": null,
   "id": "4d1746d0",
   "metadata": {},
   "outputs": [],
   "source": [
    "class_name = validation_set.class_names"
   ]
  },
  {
   "cell_type": "code",
   "execution_count": null,
   "id": "386541cb",
   "metadata": {},
   "outputs": [],
   "source": [
    "test_set = tf.keras.utils.image_dataset_from_directory(\n",
    "    'Dataset1/valid',\n",
    "    labels=\"inferred\",\n",
    "    label_mode=\"categorical\",\n",
    "    class_names=None,\n",
    "    color_mode=\"rgb\",\n",
    "    batch_size=1,\n",
    "    image_size=(128, 128),\n",
    "    shuffle=False,\n",
    "    seed=None,\n",
    "    validation_split=None,\n",
    "    subset=None,\n",
    "    interpolation=\"bilinear\",\n",
    "    follow_links=False,\n",
    "    crop_to_aspect_ratio=False\n",
    ")"
   ]
  },
  {
   "cell_type": "code",
   "execution_count": null,
   "id": "ca61190a",
   "metadata": {},
   "outputs": [],
   "source": [
    "y_pred = cnn.predict(test_set)\n",
    "predicted_categories = tf.argmax(y_pred, axis=1)"
   ]
  },
  {
   "cell_type": "code",
   "execution_count": null,
   "id": "f3c443fe",
   "metadata": {},
   "outputs": [],
   "source": [
    "true_categories = tf.concat([y for x, y in test_set], axis=0)\n",
    "Y_true = tf.argmax(true_categories, axis=1)"
   ]
  },
  {
   "cell_type": "code",
   "execution_count": null,
   "id": "2964c598",
   "metadata": {},
   "outputs": [],
   "source": [
    "Y_true"
   ]
  },
  {
   "cell_type": "code",
   "execution_count": null,
   "id": "e3035dfc",
   "metadata": {},
   "outputs": [],
   "source": [
    "predicted_categories"
   ]
  },
  {
   "cell_type": "code",
   "execution_count": null,
   "id": "d03c3042",
   "metadata": {},
   "outputs": [],
   "source": [
    "from sklearn.metrics import confusion_matrix,classification_report\n",
    "cm = confusion_matrix(Y_true,predicted_categories)"
   ]
  },
  {
   "cell_type": "code",
   "execution_count": null,
   "id": "7b34428a",
   "metadata": {},
   "outputs": [],
   "source": [
    "print(classification_report(Y_true,predicted_categories,target_names=class_name))"
   ]
  },
  {
   "cell_type": "code",
   "execution_count": null,
   "id": "41d554dc",
   "metadata": {},
   "outputs": [],
   "source": [
    "plt.figure(figsize=(40, 40))\n",
    "sns.heatmap(cm,annot=True,annot_kws={\"size\": 10}, cmap='tab10')\n",
    "\n",
    "plt.xlabel('Predicted Class',fontsize = 30)\n",
    "plt.ylabel('Actual Class',fontsize = 40)\n",
    "plt.title('Plant Disease Prediction Confusion Matrix',fontsize = 25)\n",
    "plt.show()"
   ]
  },
  {
   "cell_type": "code",
   "execution_count": null,
   "id": "003b16bb",
   "metadata": {},
   "outputs": [],
   "source": []
  }
 ],
 "metadata": {
  "kernelspec": {
   "display_name": "Python 3 (ipykernel)",
   "language": "python",
   "name": "python3"
  },
  "language_info": {
   "codemirror_mode": {
    "name": "ipython",
    "version": 3
   },
   "file_extension": ".py",
   "mimetype": "text/x-python",
   "name": "python",
   "nbconvert_exporter": "python",
   "pygments_lexer": "ipython3",
   "version": "3.12.1"
  }
 },
 "nbformat": 4,
 "nbformat_minor": 5
}
